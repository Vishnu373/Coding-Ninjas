{
 "cells": [
  {
   "cell_type": "code",
   "execution_count": 8,
   "id": "15909dd0",
   "metadata": {},
   "outputs": [],
   "source": [
    "import numpy as np\n",
    "\n",
    "# PCA, logistic regression, dataset import statements\n",
    "from sklearn import decomposition, linear_model, datasets\n",
    "\n",
    "import time\n",
    "\n",
    "# Feature scaling\n",
    "from sklearn.preprocessing import StandardScaler\n",
    "\n",
    "from sklearn.model_selection import train_test_split"
   ]
  },
  {
   "cell_type": "code",
   "execution_count": 2,
   "id": "846ee0b0",
   "metadata": {},
   "outputs": [],
   "source": [
    "# load the dataset\n",
    "breast_cancer = datasets.load_breast_cancer()"
   ]
  },
  {
   "cell_type": "code",
   "execution_count": 4,
   "id": "53450ec5",
   "metadata": {},
   "outputs": [
    {
     "data": {
      "text/plain": [
       "(569, 30)"
      ]
     },
     "execution_count": 4,
     "metadata": {},
     "output_type": "execute_result"
    }
   ],
   "source": [
    "# Input array\n",
    "X = breast_cancer.data\n",
    "X.shape"
   ]
  },
  {
   "cell_type": "code",
   "execution_count": 5,
   "id": "8f04100b",
   "metadata": {},
   "outputs": [],
   "source": [
    "# scaling the dataset\n",
    "sc = StandardScaler()\n",
    "X_std = sc.fit_transform(X)"
   ]
  },
  {
   "cell_type": "code",
   "execution_count": 6,
   "id": "863b497f",
   "metadata": {},
   "outputs": [],
   "source": [
    "# splitting into training and testing\n",
    "x_train, x_test, y_train, y_test = train_test_split(X_std, breast_cancer.target, random_state = 0)"
   ]
  },
  {
   "cell_type": "markdown",
   "id": "af967f70",
   "metadata": {},
   "source": [
    "Finding the optimal no. of features"
   ]
  },
  {
   "cell_type": "code",
   "execution_count": 29,
   "id": "9a74cc26",
   "metadata": {},
   "outputs": [
    {
     "data": {
      "text/plain": [
       "array([1.30274684e+01, 5.81556555e+00, 2.85848795e+00, 1.91901713e+00,\n",
       "       1.70021491e+00, 1.20663908e+00, 6.53337152e-01, 4.26738474e-01,\n",
       "       4.26450541e-01, 3.45589858e-01, 3.08054910e-01, 2.56054468e-01,\n",
       "       2.28152003e-01, 1.43262745e-01, 9.26283031e-02, 7.80260477e-02,\n",
       "       6.13812037e-02, 5.26182531e-02, 4.50933578e-02, 3.08275366e-02,\n",
       "       3.03277956e-02, 2.51390631e-02, 2.12226717e-02, 1.77427715e-02,\n",
       "       1.63886382e-02, 7.83681541e-03, 6.61084728e-03, 1.45257891e-03,\n",
       "       7.98794510e-04, 1.11908784e-04])"
      ]
     },
     "execution_count": 29,
     "metadata": {},
     "output_type": "execute_result"
    }
   ],
   "source": [
    "pca = decomposition.PCA()\n",
    "pca.fit_transform(x_train)\n",
    "pca.explained_variance_"
   ]
  },
  {
   "cell_type": "code",
   "execution_count": 31,
   "id": "cf889d4f",
   "metadata": {},
   "outputs": [
    {
     "data": {
      "text/plain": [
       "29.803239722949346"
      ]
     },
     "execution_count": 31,
     "metadata": {},
     "output_type": "execute_result"
    }
   ],
   "source": [
    "# finding total of the variance\n",
    "total = sum(pca.explained_variance_)\n",
    "total"
   ]
  },
  {
   "cell_type": "code",
   "execution_count": 40,
   "id": "453335a0",
   "metadata": {},
   "outputs": [
    {
     "data": {
      "text/plain": [
       "10"
      ]
     },
     "execution_count": 40,
     "metadata": {},
     "output_type": "execute_result"
    }
   ],
   "source": [
    "# setting variable k as n_components value\n",
    "# initially\n",
    "k = 0\n",
    "current_variance = 0 \n",
    "\n",
    "# 0.99 -> Running variance with 99% pca, till then we are adding variance and increasing value of k\n",
    "# Other values are also possible like 0.95, 0.89, 0.78 etc.\n",
    "while current_variance/total < 0.95:\n",
    "    current_variance += pca.explained_variance_[k]\n",
    "    k += 1\n",
    "\n",
    "k"
   ]
  },
  {
   "cell_type": "markdown",
   "id": "b7ef6949",
   "metadata": {},
   "source": [
    "This code signifies that, 95% of data can be kept with just k(in this case, it is 10) features. Original data contains 30 features."
   ]
  },
  {
   "cell_type": "code",
   "execution_count": 43,
   "id": "e7428d61",
   "metadata": {},
   "outputs": [],
   "source": [
    "# reducing dimensions to 15, total is 30\n",
    "# pca = decomposition.PCA(n_components = 15)\n",
    "\n",
    "pca = decomposition.PCA(n_components = k)"
   ]
  },
  {
   "cell_type": "code",
   "execution_count": 44,
   "id": "d1297f7a",
   "metadata": {},
   "outputs": [],
   "source": [
    "# Applying PCA on training data\n",
    "x_train_pca = pca.fit_transform(x_train)\n",
    "\n",
    "# Appyling PCA on testing data with same components used on training data\n",
    "x_test_pca = pca.transform(x_test)"
   ]
  },
  {
   "cell_type": "code",
   "execution_count": 45,
   "id": "bb2d76ce",
   "metadata": {},
   "outputs": [],
   "source": [
    "# Logistic regression algorithm\n",
    "lr = linear_model.LogisticRegression()"
   ]
  },
  {
   "cell_type": "code",
   "execution_count": 46,
   "id": "73b44ed8",
   "metadata": {},
   "outputs": [
    {
     "name": "stdout",
     "output_type": "stream",
     "text": [
      "0.016305208206176758\n",
      "0.965034965034965\n"
     ]
    }
   ],
   "source": [
    "# Applying logistic regression on pca - free data\n",
    "start_time = time.time()\n",
    "lr.fit(x_train, y_train)\n",
    "end_time = time.time()\n",
    "\n",
    "print(end_time - start_time)\n",
    "print(lr.score(x_test, y_test))"
   ]
  },
  {
   "cell_type": "code",
   "execution_count": 47,
   "id": "288f9448",
   "metadata": {},
   "outputs": [
    {
     "name": "stdout",
     "output_type": "stream",
     "text": [
      "0.010337114334106445\n",
      "0.958041958041958\n"
     ]
    }
   ],
   "source": [
    "# Applying logistic regression on pca - applied data\n",
    "start_time = time.time()\n",
    "lr.fit(x_train_pca, y_train)\n",
    "end_time = time.time()\n",
    "\n",
    "print(end_time - start_time)\n",
    "print(lr.score(x_test_pca, y_test))"
   ]
  },
  {
   "cell_type": "code",
   "execution_count": 48,
   "id": "acf197c8",
   "metadata": {},
   "outputs": [
    {
     "data": {
      "text/plain": [
       "array([13.02746837,  5.81556555,  2.85848795,  1.91901713,  1.70021491,\n",
       "        1.20663908,  0.65333715,  0.42673847,  0.42645054,  0.34558986])"
      ]
     },
     "execution_count": 48,
     "metadata": {},
     "output_type": "execute_result"
    }
   ],
   "source": [
    "pca.explained_variance_"
   ]
  }
 ],
 "metadata": {
  "kernelspec": {
   "display_name": "Python 3 (ipykernel)",
   "language": "python",
   "name": "python3"
  },
  "language_info": {
   "codemirror_mode": {
    "name": "ipython",
    "version": 3
   },
   "file_extension": ".py",
   "mimetype": "text/x-python",
   "name": "python",
   "nbconvert_exporter": "python",
   "pygments_lexer": "ipython3",
   "version": "3.9.13"
  }
 },
 "nbformat": 4,
 "nbformat_minor": 5
}
