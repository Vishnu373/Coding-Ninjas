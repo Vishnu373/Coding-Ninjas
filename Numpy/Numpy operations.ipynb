{
 "cells": [
  {
   "cell_type": "code",
   "execution_count": 1,
   "id": "9b51d080",
   "metadata": {},
   "outputs": [],
   "source": [
    "import numpy as np"
   ]
  },
  {
   "cell_type": "code",
   "execution_count": 16,
   "id": "a5a23d60",
   "metadata": {},
   "outputs": [],
   "source": [
    "a = np.array([1, 2, 3])\n",
    "b = np.array([5, 6, 7])"
   ]
  },
  {
   "cell_type": "code",
   "execution_count": 9,
   "id": "646f6473",
   "metadata": {},
   "outputs": [
    {
     "name": "stdout",
     "output_type": "stream",
     "text": [
      "[3 4 5]\n",
      "[3 6 9]\n",
      "[1 4 9]\n",
      "[0.5 1.  1.5]\n",
      "[1 0 1]\n",
      "[ 6  8 10]\n",
      "[ 5 12 21]\n"
     ]
    }
   ],
   "source": [
    "# Performs element wise operations\n",
    "\n",
    "print(a + 2)\n",
    "print(a * 3)\n",
    "print(a ** 2)\n",
    "print(a / 2)\n",
    "print(a % 2)\n",
    "\n",
    "print(a + b)\n",
    "print(a * b)"
   ]
  },
  {
   "cell_type": "code",
   "execution_count": 11,
   "id": "6e224e42",
   "metadata": {},
   "outputs": [
    {
     "name": "stdout",
     "output_type": "stream",
     "text": [
      "2.0\n",
      "18\n"
     ]
    }
   ],
   "source": [
    "# Built in functions\n",
    "print(a.mean())\n",
    "print(b.sum())"
   ]
  },
  {
   "cell_type": "code",
   "execution_count": 22,
   "id": "db478d29",
   "metadata": {},
   "outputs": [
    {
     "data": {
      "text/plain": [
       "array([[ 70, 100],\n",
       "       [150, 220]])"
      ]
     },
     "execution_count": 22,
     "metadata": {},
     "output_type": "execute_result"
    }
   ],
   "source": [
    "# Dot operation\n",
    "a1_2d = np.array([[1, 2], [3, 4]])\n",
    "a2_2d = np.array([[10, 20], [30, 40]])\n",
    "\n",
    "a1_2d.dot(a2_2d)"
   ]
  },
  {
   "cell_type": "code",
   "execution_count": 17,
   "id": "1ab1bcee",
   "metadata": {},
   "outputs": [],
   "source": [
    "import math as m"
   ]
  },
  {
   "cell_type": "code",
   "execution_count": 19,
   "id": "45ce58de",
   "metadata": {},
   "outputs": [
    {
     "name": "stdout",
     "output_type": "stream",
     "text": [
      "6.928203230275509\n"
     ]
    }
   ],
   "source": [
    "# Square distance\n",
    "dist = ((a - b)**2).sum()\n",
    "final_ans = m.sqrt(dist)\n",
    "print(final_ans)"
   ]
  },
  {
   "cell_type": "code",
   "execution_count": 20,
   "id": "43e55c74",
   "metadata": {},
   "outputs": [
    {
     "name": "stdout",
     "output_type": "stream",
     "text": [
      "14.75\n"
     ]
    }
   ],
   "source": [
    "# Points to mean distance\n",
    "x = np.array([1, 3, 5, 6])\n",
    "dist = ((x - x.mean())**2).sum()\n",
    "print(dist)"
   ]
  }
 ],
 "metadata": {
  "kernelspec": {
   "display_name": "Python 3 (ipykernel)",
   "language": "python",
   "name": "python3"
  },
  "language_info": {
   "codemirror_mode": {
    "name": "ipython",
    "version": 3
   },
   "file_extension": ".py",
   "mimetype": "text/x-python",
   "name": "python",
   "nbconvert_exporter": "python",
   "pygments_lexer": "ipython3",
   "version": "3.9.13"
  }
 },
 "nbformat": 4,
 "nbformat_minor": 5
}
