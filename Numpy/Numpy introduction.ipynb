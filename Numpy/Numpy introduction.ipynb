{
 "cells": [
  {
   "cell_type": "code",
   "execution_count": 1,
   "id": "1c8086fd",
   "metadata": {},
   "outputs": [],
   "source": [
    "# importing the library\n",
    "import numpy as np"
   ]
  },
  {
   "cell_type": "code",
   "execution_count": 25,
   "id": "a59e821a",
   "metadata": {},
   "outputs": [
    {
     "data": {
      "text/plain": [
       "array([1, 2, 3])"
      ]
     },
     "execution_count": 25,
     "metadata": {},
     "output_type": "execute_result"
    }
   ],
   "source": [
    "# creating a numpy array\n",
    "# Method 1\n",
    "\n",
    "li = [1, 2, 3]\n",
    "np.array(li)\n",
    "\n",
    "# Just in case \n",
    "# li = [1, 2, '3']\n",
    "# np.array(li)\n",
    "# converts everything into a string"
   ]
  },
  {
   "cell_type": "code",
   "execution_count": 14,
   "id": "be660499",
   "metadata": {},
   "outputs": [
    {
     "name": "stdout",
     "output_type": "stream",
     "text": [
      "float64\n"
     ]
    },
    {
     "data": {
      "text/plain": [
       "array([1, 1, 1, 1, 1, 1, 1, 1, 1, 1])"
      ]
     },
     "execution_count": 14,
     "metadata": {},
     "output_type": "execute_result"
    }
   ],
   "source": [
    "# Array full of zeros\n",
    "a0 = np.zeros(10)\n",
    "print(a.dtype) # returns type of the data\n",
    "\n",
    "# Array full of ones\n",
    "a1 = np.ones(10)\n",
    "\n",
    "# changing data type is also possible\n",
    "a1_int = np.ones(10, int)\n",
    "a1_int"
   ]
  },
  {
   "cell_type": "code",
   "execution_count": 12,
   "id": "b929b44f",
   "metadata": {},
   "outputs": [
    {
     "name": "stdout",
     "output_type": "stream",
     "text": [
      "[[0. 0. 0.]\n",
      " [0. 0. 0.]]\n",
      "[[1, 2, 3], [4, 5, 6]]\n"
     ]
    }
   ],
   "source": [
    "# creating 2d arrays\n",
    "a_2d = np.zeros((2, 3))\n",
    "print(a_2d)\n",
    "\n",
    "li_2d = [[1, 2, 3], [4, 5, 6]]\n",
    "np.array(li_2d)\n",
    "print(li_2d)"
   ]
  },
  {
   "cell_type": "code",
   "execution_count": 17,
   "id": "8a950ef6",
   "metadata": {},
   "outputs": [
    {
     "name": "stdout",
     "output_type": "stream",
     "text": [
      "[1. 0. 0. 0. 0. 0. 0. 0. 0. 0.]\n",
      "[1. 0. 0. 0. 0. 0. 0. 0. 0. 0.]\n"
     ]
    }
   ],
   "source": [
    "# changing particular index value\n",
    "a0[0] = 1\n",
    "print(a0)\n",
    "\n",
    "# if we give another data type other than the already applied one, it gets converted into the existing type automatically\n",
    "a0[0] = \"1\"\n",
    "print(a0)"
   ]
  },
  {
   "cell_type": "code",
   "execution_count": 36,
   "id": "d13dc8eb",
   "metadata": {},
   "outputs": [
    {
     "name": "stdout",
     "output_type": "stream",
     "text": [
      "1\n",
      "[11 12 13]\n",
      "[11 14]\n",
      "[11 14 11 14]\n",
      "[11 14]\n",
      "[[12 13]\n",
      " [15 16]\n",
      " [12 13]\n",
      " [15 16]]\n"
     ]
    }
   ],
   "source": [
    "# Accessing elements\n",
    "print(li[0])\n",
    "\n",
    "# for 2d arrays\n",
    "li1_2d = np.array([[11, 12, 13], [14, 15, 16]])\n",
    "print(li1_2d[0]) # accessing 0th row\n",
    "print(li1_2d[:, 0]) # accessing 0th column\n",
    "\n",
    "\n",
    "li2_2d = np.array([[11, 12, 13], [14, 15, 16], [11, 12, 13], [14, 15, 16]])\n",
    "print(li2_2d[:, 0])\n",
    "print(li2_2d[0:2, 0])\n",
    "print(li2_2d[:, 1:3])"
   ]
  },
  {
   "cell_type": "code",
   "execution_count": 22,
   "id": "c13d1a39",
   "metadata": {},
   "outputs": [
    {
     "name": "stdout",
     "output_type": "stream",
     "text": [
      "[2]\n",
      "[[4, 5, 6]]\n"
     ]
    }
   ],
   "source": [
    "# Slicing\n",
    "print(li[1:2])\n",
    "\n",
    "print(li_2d[1:2])"
   ]
  },
  {
   "cell_type": "code",
   "execution_count": 38,
   "id": "374bb95d",
   "metadata": {},
   "outputs": [
    {
     "name": "stdout",
     "output_type": "stream",
     "text": [
      "(10,)\n",
      "(2, 3)\n",
      "(4, 3)\n"
     ]
    }
   ],
   "source": [
    "# Size of the array\n",
    "print(a0.shape)\n",
    "print(li1_2d.shape)\n",
    "print(li2_2d.shape)"
   ]
  }
 ],
 "metadata": {
  "kernelspec": {
   "display_name": "Python 3 (ipykernel)",
   "language": "python",
   "name": "python3"
  },
  "language_info": {
   "codemirror_mode": {
    "name": "ipython",
    "version": 3
   },
   "file_extension": ".py",
   "mimetype": "text/x-python",
   "name": "python",
   "nbconvert_exporter": "python",
   "pygments_lexer": "ipython3",
   "version": "3.9.13"
  }
 },
 "nbformat": 4,
 "nbformat_minor": 5
}
