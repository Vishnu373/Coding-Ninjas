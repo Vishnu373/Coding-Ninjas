{
 "cells": [
  {
   "cell_type": "code",
   "execution_count": 3,
   "id": "7ecbb757",
   "metadata": {},
   "outputs": [],
   "source": [
    "import numpy as np\n",
    "from sklearn import preprocessing"
   ]
  },
  {
   "cell_type": "code",
   "execution_count": 2,
   "id": "701b0bee",
   "metadata": {},
   "outputs": [],
   "source": [
    "X = np.array([[1., -1., 2.],\n",
    "            [2., 0., 0.],\n",
    "            [0., 1., -1.]])"
   ]
  },
  {
   "cell_type": "code",
   "execution_count": 5,
   "id": "6b71f63c",
   "metadata": {},
   "outputs": [],
   "source": [
    "# Method 1 - scaling only for single dataset. Thus, scales differently for both training and testing.\n",
    "X_scaled = preprocessing.scale(X)"
   ]
  },
  {
   "cell_type": "code",
   "execution_count": 7,
   "id": "566ce5a2",
   "metadata": {},
   "outputs": [
    {
     "data": {
      "text/plain": [
       "array([0., 0., 0.])"
      ]
     },
     "execution_count": 7,
     "metadata": {},
     "output_type": "execute_result"
    }
   ],
   "source": [
    "X_scaled.mean(axis = 0)"
   ]
  },
  {
   "cell_type": "code",
   "execution_count": 8,
   "id": "ca58de26",
   "metadata": {},
   "outputs": [
    {
     "data": {
      "text/plain": [
       "array([1., 1., 1.])"
      ]
     },
     "execution_count": 8,
     "metadata": {},
     "output_type": "execute_result"
    }
   ],
   "source": [
    "X_scaled.std(axis = 0)"
   ]
  },
  {
   "cell_type": "code",
   "execution_count": 9,
   "id": "f0360954",
   "metadata": {},
   "outputs": [
    {
     "data": {
      "text/plain": [
       "array([[ 0.        , -1.22474487,  1.33630621],\n",
       "       [ 1.22474487,  0.        , -0.26726124],\n",
       "       [-1.22474487,  1.22474487, -1.06904497]])"
      ]
     },
     "execution_count": 9,
     "metadata": {},
     "output_type": "execute_result"
    }
   ],
   "source": [
    "# Method 2 - scaling for different datasets with same parameters by storing them.\n",
    "# parameters stored\n",
    "scaler = preprocessing.StandardScaler()\n",
    "scaler.fit(X) # performs the scaling\n",
    "\n",
    "# applies the stored parameters\n",
    "scaler.transform(X)"
   ]
  },
  {
   "cell_type": "code",
   "execution_count": 10,
   "id": "ea498ac6",
   "metadata": {},
   "outputs": [
    {
     "data": {
      "text/plain": [
       "array([[ 0.        ,  1.22474487, -0.26726124]])"
      ]
     },
     "execution_count": 10,
     "metadata": {},
     "output_type": "execute_result"
    }
   ],
   "source": [
    "X_test = [[1, 1, 0]]\n",
    "\n",
    "scaler.transform(X_test)"
   ]
  },
  {
   "cell_type": "code",
   "execution_count": 14,
   "id": "0148756c",
   "metadata": {},
   "outputs": [
    {
     "name": "stdout",
     "output_type": "stream",
     "text": [
      "0.0\n",
      "8.879529301279849\n"
     ]
    }
   ],
   "source": [
    "data = [[0, 3], \n",
    "       [9, 4], \n",
    "       [2, 7],\n",
    "       [1, 1]]\n",
    "\n",
    "scaler.fit(data)\n",
    "\n",
    "first = scaler.transform(data)\n",
    "\n",
    "second = scaler.transform([[2, 13],\n",
    "                          [1, 4],\n",
    "                          [10, 7],\n",
    "                          [1, 9]])\n",
    "\n",
    "print(first.sum())\n",
    "print(second.sum())"
   ]
  },
  {
   "cell_type": "code",
   "execution_count": null,
   "id": "b0e7ed81",
   "metadata": {},
   "outputs": [],
   "source": []
  }
 ],
 "metadata": {
  "kernelspec": {
   "display_name": "Python 3 (ipykernel)",
   "language": "python",
   "name": "python3"
  },
  "language_info": {
   "codemirror_mode": {
    "name": "ipython",
    "version": 3
   },
   "file_extension": ".py",
   "mimetype": "text/x-python",
   "name": "python",
   "nbconvert_exporter": "python",
   "pygments_lexer": "ipython3",
   "version": "3.9.13"
  }
 },
 "nbformat": 4,
 "nbformat_minor": 5
}
