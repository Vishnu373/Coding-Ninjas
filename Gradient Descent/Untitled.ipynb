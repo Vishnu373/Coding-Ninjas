{
 "cells": [
  {
   "cell_type": "code",
   "execution_count": 8,
   "id": "26d85bcd",
   "metadata": {},
   "outputs": [],
   "source": [
    "import numpy as np\n",
    "import pandas as pd"
   ]
  },
  {
   "cell_type": "code",
   "execution_count": 9,
   "id": "d9899a7b",
   "metadata": {},
   "outputs": [],
   "source": [
    "def step_gradient(X, Y, learning_rate, m):\n",
    "    m_slope = np.zeros(X.shape[1])\n",
    "    M = len(X)\n",
    "    \n",
    "    for i in range(M):\n",
    "        # accessing each values\n",
    "        x = X[i]\n",
    "        y = Y[i]\n",
    "        \n",
    "        for j in range(len(m_slope)):\n",
    "            m_slope[j] += (-2/M) * (y - ((m * x).sum())) * x[j]\n",
    "            \n",
    "        new_m = m - learning_rate * m_slope\n",
    "        \n",
    "    return new_m"
   ]
  },
  {
   "cell_type": "code",
   "execution_count": 10,
   "id": "5fc8660d",
   "metadata": {},
   "outputs": [],
   "source": [
    "def gd(X, Y, learning_rate, num_iterations):\n",
    "    # setting m[] with 0's initially\n",
    "    m = np.zeros(X.shape[1])\n",
    "    \n",
    "    for i in range(num_iterations):\n",
    "        m = step_gradient(X, Y, learning_rate, m)\n",
    "        print(i, \"Cost: \", cost(X, Y, m))\n",
    "        \n",
    "    return m    "
   ]
  },
  {
   "cell_type": "code",
   "execution_count": 11,
   "id": "903986e6",
   "metadata": {},
   "outputs": [],
   "source": [
    "def cost(X, Y, m):\n",
    "    total_cost = 0\n",
    "    M = len(X)\n",
    "    \n",
    "    for i in range(M):\n",
    "        total_cost += ((1/M) * (Y[i] - ((m * X[i]).sum())))**2\n",
    "     \n",
    "    return total_cost"
   ]
  },
  {
   "cell_type": "code",
   "execution_count": 12,
   "id": "2e35205b",
   "metadata": {},
   "outputs": [],
   "source": [
    "def run():\n",
    "    # load the data\n",
    "    data_url = \"http://lib.stat.cmu.edu/datasets/boston\"\n",
    "    raw_df = pd.read_csv(data_url, sep=\"\\s+\", skiprows=22, header=None)\n",
    "    X = np.hstack([raw_df.values[::2, :], raw_df.values[1::2, :2]])\n",
    "    Y = raw_df.values[1::2, 2]\n",
    "    \n",
    "    # adding last column c with all 1's in X\n",
    "    X = np.append(X, np.ones(len(X), dtype = 'int').reshape(-1, 1), axis = 1)\n",
    "    \n",
    "    learning_rate = 0.000001\n",
    "    num_iterations = 100\n",
    "    \n",
    "    m = gd(X, Y, learning_rate, num_iterations)\n",
    "    \n",
    "    print(m)"
   ]
  },
  {
   "cell_type": "code",
   "execution_count": 13,
   "id": "288a9afd",
   "metadata": {},
   "outputs": [
    {
     "name": "stdout",
     "output_type": "stream",
     "text": [
      "0 Cost:  0.3878387274751139\n",
      "1 Cost:  0.27051969388599123\n",
      "2 Cost:  0.2469344425628912\n",
      "3 Cost:  0.23711306571316743\n",
      "4 Cost:  0.229811817575902\n",
      "5 Cost:  0.2234037141018432\n",
      "6 Cost:  0.2176116632252831\n",
      "7 Cost:  0.21235189648183744\n",
      "8 Cost:  0.2075718081137857\n",
      "9 Cost:  0.20322689881469544\n",
      "10 Cost:  0.19927720773557583\n",
      "11 Cost:  0.19568650139467472\n",
      "12 Cost:  0.19242187674710506\n",
      "13 Cost:  0.18945344816220896\n",
      "14 Cost:  0.18675406974110156\n",
      "15 Cost:  0.18429908401837106\n",
      "16 Cost:  0.18206609382990857\n",
      "17 Cost:  0.18003475511145717\n",
      "18 Cost:  0.17818658869356374\n",
      "19 Cost:  0.17650480934936524\n",
      "20 Cost:  0.17497417051337036\n",
      "21 Cost:  0.1735808232346488\n",
      "22 Cost:  0.17231218805957996\n",
      "23 Cost:  0.17115683865892314\n",
      "24 Cost:  0.17010439612262745\n",
      "25 Cost:  0.16914543294447823\n",
      "26 Cost:  0.16827138580833886\n",
      "27 Cost:  0.16747447636914406\n",
      "28 Cost:  0.16674763929578848\n",
      "29 Cost:  0.1660844569102186\n",
      "30 Cost:  0.16547909981806405\n",
      "31 Cost:  0.16492627298157184\n",
      "32 Cost:  0.1644211667359572\n",
      "33 Cost:  0.16395941229601402\n",
      "34 Cost:  0.16353704134137073\n",
      "35 Cost:  0.16315044930650574\n",
      "36 Cost:  0.16279636203591255\n",
      "37 Cost:  0.1624718054959419\n",
      "38 Cost:  0.16217407826311034\n",
      "39 Cost:  0.16190072653436802\n",
      "40 Cost:  0.16164952142813813\n",
      "41 Cost:  0.16141843836613828\n",
      "42 Cost:  0.16120563834523824\n",
      "43 Cost:  0.1610094509261004\n",
      "44 Cost:  0.1608283587812264\n",
      "45 Cost:  0.16066098365946313\n",
      "46 Cost:  0.16050607363711814\n",
      "47 Cost:  0.16036249153775256\n",
      "48 Cost:  0.16022920441350874\n",
      "49 Cost:  0.16010527399067287\n",
      "50 Cost:  0.15998984799107843\n",
      "51 Cost:  0.159882152249062\n",
      "52 Cost:  0.15978148355104851\n",
      "53 Cost:  0.15968720313151935\n",
      "54 Cost:  0.15959873076519734\n",
      "55 Cost:  0.15951553940078972\n",
      "56 Cost:  0.15943715028665134\n",
      "57 Cost:  0.1593631285432684\n",
      "58 Cost:  0.159293079141607\n",
      "59 Cost:  0.1592266432501206\n",
      "60 Cost:  0.15916349491662277\n",
      "61 Cost:  0.15910333805432536\n",
      "62 Cost:  0.15904590370416377\n",
      "63 Cost:  0.1589909475480815\n",
      "64 Cost:  0.15893824765026576\n",
      "65 Cost:  0.1588876024054429\n",
      "66 Cost:  0.15883882867524815\n",
      "67 Cost:  0.1587917600954351\n",
      "68 Cost:  0.1587462455382564\n",
      "69 Cost:  0.15870214771579863\n",
      "70 Cost:  0.15865934191134703\n",
      "71 Cost:  0.1586177148270414\n",
      "72 Cost:  0.15857716353717072\n",
      "73 Cost:  0.15853759453741093\n",
      "74 Cost:  0.15849892288122477\n",
      "75 Cost:  0.15846107139541957\n",
      "76 Cost:  0.1584239699676195\n",
      "77 Cost:  0.15838755489904918\n",
      "78 Cost:  0.1583517683166512\n",
      "79 Cost:  0.15831655763908856\n",
      "80 Cost:  0.15828187509170377\n",
      "81 Cost:  0.15824767726593567\n",
      "82 Cost:  0.1582139247191257\n",
      "83 Cost:  0.15818058161101095\n",
      "84 Cost:  0.15814761537353536\n",
      "85 Cost:  0.15811499641093374\n",
      "86 Cost:  0.15808269782730236\n",
      "87 Cost:  0.15805069517914874\n",
      "88 Cost:  0.15801896625062117\n",
      "89 Cost:  0.15798749084934266\n",
      "90 Cost:  0.15795625062096166\n",
      "91 Cost:  0.1579252288807017\n",
      "92 Cost:  0.15789441046035257\n",
      "93 Cost:  0.15786378156928793\n",
      "94 Cost:  0.15783332966822247\n",
      "95 Cost:  0.1578030433545417\n",
      "96 Cost:  0.15777291225814324\n",
      "97 Cost:  0.15774292694682657\n",
      "98 Cost:  0.15771307884035485\n",
      "99 Cost:  0.1576833601323941\n",
      "[-2.83265439e-03  1.47264417e-02 -1.74272427e-03  8.81490263e-05\n",
      "  7.53486718e-05  2.36969743e-03  2.54588985e-03  1.45166706e-03\n",
      " -1.28766566e-03 -4.30648441e-04  2.71483461e-03  6.09004583e-02\n",
      " -4.63109935e-03  2.43930765e-04]\n"
     ]
    }
   ],
   "source": [
    "run()"
   ]
  },
  {
   "cell_type": "code",
   "execution_count": 14,
   "id": "aa7e4a1f",
   "metadata": {},
   "outputs": [
    {
     "data": {
      "text/plain": [
       "'\\ndata_url = \"http://lib.stat.cmu.edu/datasets/boston\"\\nraw_df = pd.read_csv(data_url, sep=\"\\\\s+\", skiprows=22, header=None)\\nX = np.hstack([raw_df.values[::2, :], raw_df.values[1::2, :2]])\\nprint(\"before updation\")\\nprint(X.shape)\\nprint(X)\\nY = raw_df.values[1::2, 2]\\n\\nX=np.append(X, np.ones(len(X), dtype=\\'int\\').reshape(-1, 1), axis=1)\\nprint(\"after updation\")\\nprint(X.shape)\\nprint(X)\\n'"
      ]
     },
     "execution_count": 14,
     "metadata": {},
     "output_type": "execute_result"
    }
   ],
   "source": [
    "\"\"\"\n",
    "data_url = \"http://lib.stat.cmu.edu/datasets/boston\"\n",
    "raw_df = pd.read_csv(data_url, sep=\"\\s+\", skiprows=22, header=None)\n",
    "X = np.hstack([raw_df.values[::2, :], raw_df.values[1::2, :2]])\n",
    "print(\"before updation\")\n",
    "print(X.shape)\n",
    "print(X)\n",
    "Y = raw_df.values[1::2, 2]\n",
    "\n",
    "X=np.append(X, np.ones(len(X), dtype='int').reshape(-1, 1), axis=1)\n",
    "print(\"after updation\")\n",
    "print(X.shape)\n",
    "print(X)\n",
    "\"\"\""
   ]
  }
 ],
 "metadata": {
  "kernelspec": {
   "display_name": "Python 3 (ipykernel)",
   "language": "python",
   "name": "python3"
  },
  "language_info": {
   "codemirror_mode": {
    "name": "ipython",
    "version": 3
   },
   "file_extension": ".py",
   "mimetype": "text/x-python",
   "name": "python",
   "nbconvert_exporter": "python",
   "pygments_lexer": "ipython3",
   "version": "3.10.9"
  }
 },
 "nbformat": 4,
 "nbformat_minor": 5
}
