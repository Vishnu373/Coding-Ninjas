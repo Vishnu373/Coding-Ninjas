{
 "cells": [
  {
   "cell_type": "code",
   "execution_count": 39,
   "id": "9ce6d36a",
   "metadata": {},
   "outputs": [],
   "source": [
    "import numpy as np"
   ]
  },
  {
   "cell_type": "code",
   "execution_count": 40,
   "id": "760e4db6",
   "metadata": {},
   "outputs": [],
   "source": [
    "# data = np.loadtxt(\"data.csv\", delimiter = \",\")\n",
    "# data.shape"
   ]
  },
  {
   "cell_type": "code",
   "execution_count": 41,
   "id": "6cb33740",
   "metadata": {},
   "outputs": [],
   "source": [
    "def step_gradient(points, learning_rate, m, c):\n",
    "    m_slope = c_slope = 0\n",
    "    N = len(points)\n",
    "    \n",
    "    # finds slope values w.r.t m and c\n",
    "    for i in range(N):\n",
    "        x = points[i, 0] # ith row 0th column value\n",
    "        y = points[i, 1] # ith row 1st column value\n",
    "        \n",
    "        m_slope += (-2/N) * (y - m * x - c) * x\n",
    "        c_slope += (-2/N) * (y - m * x - c)\n",
    "\n",
    "    # found the optimal m and c\n",
    "    new_m = m - learning_rate * m_slope\n",
    "    new_c = c - learning_rate * c_slope\n",
    "    \n",
    "    return new_m, new_c        "
   ]
  },
  {
   "cell_type": "code",
   "execution_count": 42,
   "id": "aac52d66",
   "metadata": {},
   "outputs": [],
   "source": [
    "def gd(points, learning_rate, num_iterations):\n",
    "    # initally, random values for m and c\n",
    "    m = c = 0\n",
    "    \n",
    "    # updating values of m and c for a num_iterations time\n",
    "    for i in range(num_iterations):\n",
    "        m, c = step_gradient(points, learning_rate, m, c)\n",
    "        print(i, \"Cost: \", cost(points, m, c))\n",
    "    \n",
    "    return m, c"
   ]
  },
  {
   "cell_type": "code",
   "execution_count": 43,
   "id": "0f25ac35",
   "metadata": {},
   "outputs": [],
   "source": [
    "def cost(points, m, c):\n",
    "    total_cost = 0\n",
    "    N = len(points)\n",
    "    \n",
    "    for i in range(N):\n",
    "        x = points[i, 0]\n",
    "        y = points[i, 1]\n",
    "        \n",
    "        total_cost += (1/N) * ((y - m *x - c)**2)\n",
    "        \n",
    "    return total_cost"
   ]
  },
  {
   "cell_type": "code",
   "execution_count": 48,
   "id": "c9455593",
   "metadata": {},
   "outputs": [],
   "source": [
    "def run():\n",
    "    # load the data\n",
    "    data = np.loadtxt(\"data.csv\", delimiter = \",\")\n",
    "    learning_rate = 0.0001\n",
    "    num_iterations = 10\n",
    "    \n",
    "    m, c = gd(data, learning_rate, num_iterations)\n",
    "    \n",
    "    print(m, c)"
   ]
  },
  {
   "cell_type": "code",
   "execution_count": 49,
   "id": "3142ca33",
   "metadata": {},
   "outputs": [
    {
     "name": "stdout",
     "output_type": "stream",
     "text": [
      "0 Cost:  1484.5865574086486\n",
      "1 Cost:  457.8542575737672\n",
      "2 Cost:  199.5099857255389\n",
      "3 Cost:  134.50591058200533\n",
      "4 Cost:  118.1496934223995\n",
      "5 Cost:  114.0341490603815\n",
      "6 Cost:  112.99857731713657\n",
      "7 Cost:  112.73798187568467\n",
      "8 Cost:  112.6723843590911\n",
      "9 Cost:  112.65585181499745\n",
      "1.47741737554838 0.029639347874732384\n"
     ]
    }
   ],
   "source": [
    "run()"
   ]
  }
 ],
 "metadata": {
  "kernelspec": {
   "display_name": "Python 3 (ipykernel)",
   "language": "python",
   "name": "python3"
  },
  "language_info": {
   "codemirror_mode": {
    "name": "ipython",
    "version": 3
   },
   "file_extension": ".py",
   "mimetype": "text/x-python",
   "name": "python",
   "nbconvert_exporter": "python",
   "pygments_lexer": "ipython3",
   "version": "3.10.9"
  }
 },
 "nbformat": 4,
 "nbformat_minor": 5
}
