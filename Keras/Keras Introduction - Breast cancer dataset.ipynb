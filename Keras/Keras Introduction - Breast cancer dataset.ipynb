{
 "cells": [
  {
   "cell_type": "code",
   "execution_count": 17,
   "id": "7a0b3cfd",
   "metadata": {},
   "outputs": [
    {
     "name": "stdout",
     "output_type": "stream",
     "text": [
      "Requirement already satisfied: keras in c:\\users\\vishn\\anaconda3\\lib\\site-packages (2.12.0)Note: you may need to restart the kernel to use updated packages.\n",
      "\n"
     ]
    }
   ],
   "source": [
    "pip install keras"
   ]
  },
  {
   "cell_type": "code",
   "execution_count": 18,
   "id": "f59d81ef",
   "metadata": {},
   "outputs": [],
   "source": [
    "from keras.models import Sequential # sequential model\n",
    "from keras.layers import Dense # dense layer\n",
    "from sklearn import datasets\n",
    "from sklearn.model_selection import train_test_split\n",
    "from sklearn.preprocessing import StandardScaler"
   ]
  },
  {
   "cell_type": "code",
   "execution_count": 19,
   "id": "ba36173c",
   "metadata": {},
   "outputs": [],
   "source": [
    "# creating a model\n",
    "model = Sequential()"
   ]
  },
  {
   "cell_type": "code",
   "execution_count": 20,
   "id": "3b18f20c",
   "metadata": {},
   "outputs": [],
   "source": [
    "# setting up layers\n",
    "hidden_layer1 = Dense(units = 32, activation = 'relu', input_dim = 30)\n",
    "model.add(hidden_layer1)\n",
    "hidden_layer2 = Dense(units = 16, activation = 'relu')\n",
    "model.add(hidden_layer2)\n",
    "output_layer = Dense(units = 1, activation = 'sigmoid')\n",
    "model.add(output_layer)\n",
    "\n",
    "# model.add(Dense(units = 32, activation = 'relu', input_dim = 30)) alternate method"
   ]
  },
  {
   "cell_type": "code",
   "execution_count": 21,
   "id": "d548eb43",
   "metadata": {},
   "outputs": [],
   "source": [
    "# compiling the model\n",
    "model.compile(optimizer = 'adam', loss = 'binary_crossentropy', metrics = ['accuracy'])"
   ]
  },
  {
   "cell_type": "code",
   "execution_count": 22,
   "id": "06597193",
   "metadata": {},
   "outputs": [],
   "source": [
    "# loading the dataset\n",
    "cancer = datasets.load_breast_cancer()"
   ]
  },
  {
   "cell_type": "code",
   "execution_count": 23,
   "id": "a7781df9",
   "metadata": {},
   "outputs": [],
   "source": [
    "# splitting the data into training and testing datas\n",
    "x_train, x_test, y_train, y_test = train_test_split(cancer.data, cancer.target, test_size = 0.2, random_state = 0)"
   ]
  },
  {
   "cell_type": "code",
   "execution_count": 24,
   "id": "a61bf1cb",
   "metadata": {},
   "outputs": [],
   "source": [
    "# scaling the data\n",
    "sc = StandardScaler()\n",
    "x_train = sc.fit_transform(x_train)\n",
    "x_test = sc.transform(x_test)"
   ]
  },
  {
   "cell_type": "code",
   "execution_count": 25,
   "id": "2f4a6a3f",
   "metadata": {},
   "outputs": [
    {
     "name": "stdout",
     "output_type": "stream",
     "text": [
      "Epoch 1/20\n",
      "10/10 [==============================] - 2s 42ms/step - loss: 0.5949 - accuracy: 0.7736 - val_loss: 0.5137 - val_accuracy: 0.8596\n",
      "Epoch 2/20\n",
      "10/10 [==============================] - 0s 10ms/step - loss: 0.4573 - accuracy: 0.9099 - val_loss: 0.4083 - val_accuracy: 0.8947\n",
      "Epoch 3/20\n",
      "10/10 [==============================] - 0s 10ms/step - loss: 0.3553 - accuracy: 0.9319 - val_loss: 0.3247 - val_accuracy: 0.9035\n",
      "Epoch 4/20\n",
      "10/10 [==============================] - 0s 10ms/step - loss: 0.2752 - accuracy: 0.9407 - val_loss: 0.2612 - val_accuracy: 0.9298\n",
      "Epoch 5/20\n",
      "10/10 [==============================] - 0s 10ms/step - loss: 0.2154 - accuracy: 0.9451 - val_loss: 0.2183 - val_accuracy: 0.9298\n",
      "Epoch 6/20\n",
      "10/10 [==============================] - 0s 10ms/step - loss: 0.1755 - accuracy: 0.9495 - val_loss: 0.1896 - val_accuracy: 0.9298\n",
      "Epoch 7/20\n",
      "10/10 [==============================] - 0s 9ms/step - loss: 0.1480 - accuracy: 0.9582 - val_loss: 0.1686 - val_accuracy: 0.9386\n",
      "Epoch 8/20\n",
      "10/10 [==============================] - 0s 10ms/step - loss: 0.1285 - accuracy: 0.9626 - val_loss: 0.1521 - val_accuracy: 0.9474\n",
      "Epoch 9/20\n",
      "10/10 [==============================] - 0s 9ms/step - loss: 0.1147 - accuracy: 0.9670 - val_loss: 0.1399 - val_accuracy: 0.9474\n",
      "Epoch 10/20\n",
      "10/10 [==============================] - 0s 10ms/step - loss: 0.1037 - accuracy: 0.9692 - val_loss: 0.1318 - val_accuracy: 0.9474\n",
      "Epoch 11/20\n",
      "10/10 [==============================] - 0s 9ms/step - loss: 0.0957 - accuracy: 0.9692 - val_loss: 0.1245 - val_accuracy: 0.9474\n",
      "Epoch 12/20\n",
      "10/10 [==============================] - 0s 10ms/step - loss: 0.0889 - accuracy: 0.9714 - val_loss: 0.1190 - val_accuracy: 0.9474\n",
      "Epoch 13/20\n",
      "10/10 [==============================] - 0s 8ms/step - loss: 0.0829 - accuracy: 0.9736 - val_loss: 0.1127 - val_accuracy: 0.9474\n",
      "Epoch 14/20\n",
      "10/10 [==============================] - 0s 9ms/step - loss: 0.0783 - accuracy: 0.9824 - val_loss: 0.1075 - val_accuracy: 0.9474\n",
      "Epoch 15/20\n",
      "10/10 [==============================] - 0s 9ms/step - loss: 0.0740 - accuracy: 0.9824 - val_loss: 0.1025 - val_accuracy: 0.9474\n",
      "Epoch 16/20\n",
      "10/10 [==============================] - 0s 10ms/step - loss: 0.0700 - accuracy: 0.9868 - val_loss: 0.0953 - val_accuracy: 0.9474\n",
      "Epoch 17/20\n",
      "10/10 [==============================] - 0s 10ms/step - loss: 0.0667 - accuracy: 0.9846 - val_loss: 0.0920 - val_accuracy: 0.9474\n",
      "Epoch 18/20\n",
      "10/10 [==============================] - 0s 9ms/step - loss: 0.0639 - accuracy: 0.9846 - val_loss: 0.0877 - val_accuracy: 0.9474\n",
      "Epoch 19/20\n",
      "10/10 [==============================] - 0s 9ms/step - loss: 0.0614 - accuracy: 0.9846 - val_loss: 0.0850 - val_accuracy: 0.9561\n",
      "Epoch 20/20\n",
      "10/10 [==============================] - 0s 10ms/step - loss: 0.0593 - accuracy: 0.9846 - val_loss: 0.0825 - val_accuracy: 0.9561\n"
     ]
    },
    {
     "data": {
      "text/plain": [
       "<keras.callbacks.History at 0x22bd231e610>"
      ]
     },
     "execution_count": 25,
     "metadata": {},
     "output_type": "execute_result"
    }
   ],
   "source": [
    "# training the model\n",
    "model.fit(x_train, y_train, epochs = 20, batch_size = 50, validation_data = (x_test, y_test))"
   ]
  },
  {
   "cell_type": "code",
   "execution_count": 27,
   "id": "6067cd00",
   "metadata": {},
   "outputs": [
    {
     "name": "stdout",
     "output_type": "stream",
     "text": [
      "4/4 [==============================] - 0s 3ms/step\n"
     ]
    },
    {
     "data": {
      "text/plain": [
       "array([[1.21645872e-02],\n",
       "       [9.74647403e-01],\n",
       "       [9.96947467e-01],\n",
       "       [9.80937421e-01],\n",
       "       [9.99250352e-01],\n",
       "       [9.97676611e-01],\n",
       "       [9.97020006e-01],\n",
       "       [9.97833669e-01],\n",
       "       [9.98726726e-01],\n",
       "       [9.99958038e-01],\n",
       "       [8.07617188e-01],\n",
       "       [9.48539078e-01],\n",
       "       [9.99462724e-01],\n",
       "       [3.77809405e-01],\n",
       "       [6.46274805e-01],\n",
       "       [6.68440806e-03],\n",
       "       [9.97663736e-01],\n",
       "       [2.71131867e-04],\n",
       "       [3.30178975e-03],\n",
       "       [1.13560263e-05],\n",
       "       [1.62417348e-02],\n",
       "       [5.02372300e-03],\n",
       "       [9.89474118e-01],\n",
       "       [9.96105254e-01],\n",
       "       [1.21068070e-03],\n",
       "       [9.98634279e-01],\n",
       "       [9.99719501e-01],\n",
       "       [3.19420430e-03],\n",
       "       [9.96504664e-01],\n",
       "       [5.65564318e-04],\n",
       "       [9.99383867e-01],\n",
       "       [9.78418998e-03],\n",
       "       [8.74592423e-01],\n",
       "       [1.06600765e-02],\n",
       "       [9.99954462e-01],\n",
       "       [1.25192162e-02],\n",
       "       [9.80732977e-01],\n",
       "       [1.20104672e-02],\n",
       "       [9.90917027e-01],\n",
       "       [1.43502513e-02],\n",
       "       [2.69901365e-01],\n",
       "       [9.99235272e-01],\n",
       "       [3.13702494e-01],\n",
       "       [9.99448419e-01],\n",
       "       [8.06996286e-01],\n",
       "       [9.11499774e-06],\n",
       "       [9.99982417e-01],\n",
       "       [9.75487351e-01],\n",
       "       [9.99220252e-01],\n",
       "       [4.31376917e-04],\n",
       "       [3.54061392e-03],\n",
       "       [3.69116850e-02],\n",
       "       [1.53365219e-03],\n",
       "       [9.97893810e-01],\n",
       "       [9.87886250e-01],\n",
       "       [9.99182999e-01],\n",
       "       [9.95230556e-01],\n",
       "       [9.90977764e-01],\n",
       "       [9.90890980e-01],\n",
       "       [3.46913134e-06],\n",
       "       [2.76416484e-02],\n",
       "       [3.47138233e-02],\n",
       "       [9.99348819e-01],\n",
       "       [9.95017469e-01],\n",
       "       [2.82818405e-03],\n",
       "       [9.18062687e-01],\n",
       "       [2.31965958e-09],\n",
       "       [2.72617646e-04],\n",
       "       [6.34252036e-04],\n",
       "       [9.97490644e-01],\n",
       "       [6.14522636e-01],\n",
       "       [2.03462871e-04],\n",
       "       [9.96022940e-01],\n",
       "       [4.74316806e-01],\n",
       "       [5.82911016e-05],\n",
       "       [9.87670243e-01],\n",
       "       [9.99814689e-01],\n",
       "       [9.62418437e-01],\n",
       "       [9.98777211e-01],\n",
       "       [9.99424040e-01],\n",
       "       [5.02344035e-02],\n",
       "       [6.13342820e-07],\n",
       "       [1.00578771e-04],\n",
       "       [9.99649882e-01],\n",
       "       [2.80469060e-02],\n",
       "       [9.99135077e-01],\n",
       "       [9.99766707e-01],\n",
       "       [9.99955952e-01],\n",
       "       [2.66422261e-03],\n",
       "       [4.02183673e-08],\n",
       "       [9.99866605e-01],\n",
       "       [5.09215474e-01],\n",
       "       [4.39850658e-01],\n",
       "       [4.98506452e-05],\n",
       "       [9.95932937e-01],\n",
       "       [9.94868994e-01],\n",
       "       [2.34759485e-04],\n",
       "       [9.79105711e-01],\n",
       "       [9.76293504e-01],\n",
       "       [9.95866120e-01],\n",
       "       [9.99971807e-01],\n",
       "       [9.95420575e-01],\n",
       "       [9.95431602e-01],\n",
       "       [8.46758723e-01],\n",
       "       [2.57688249e-03],\n",
       "       [9.95681584e-01],\n",
       "       [5.18428669e-06],\n",
       "       [8.84935260e-01],\n",
       "       [7.23129272e-01],\n",
       "       [7.83820271e-01],\n",
       "       [9.57775176e-01],\n",
       "       [1.73164954e-04],\n",
       "       [9.66874883e-04],\n",
       "       [8.35829318e-01]], dtype=float32)"
      ]
     },
     "execution_count": 27,
     "metadata": {},
     "output_type": "execute_result"
    }
   ],
   "source": [
    "# predicted data\n",
    "predictions = model.predict(x_test)\n",
    "predictions"
   ]
  },
  {
   "cell_type": "code",
   "execution_count": 29,
   "id": "bf66346f",
   "metadata": {},
   "outputs": [
    {
     "name": "stdout",
     "output_type": "stream",
     "text": [
      "4/4 [==============================] - 0s 3ms/step - loss: 0.0825 - accuracy: 0.9561\n"
     ]
    },
    {
     "data": {
      "text/plain": [
       "[0.082543283700943, 0.9561403393745422]"
      ]
     },
     "execution_count": 29,
     "metadata": {},
     "output_type": "execute_result"
    }
   ],
   "source": [
    "# score of the model -> (loss, accuracy)\n",
    "score = model.evaluate(x_test, y_test)\n",
    "score"
   ]
  }
 ],
 "metadata": {
  "kernelspec": {
   "display_name": "Python 3 (ipykernel)",
   "language": "python",
   "name": "python3"
  },
  "language_info": {
   "codemirror_mode": {
    "name": "ipython",
    "version": 3
   },
   "file_extension": ".py",
   "mimetype": "text/x-python",
   "name": "python",
   "nbconvert_exporter": "python",
   "pygments_lexer": "ipython3",
   "version": "3.9.13"
  }
 },
 "nbformat": 4,
 "nbformat_minor": 5
}
