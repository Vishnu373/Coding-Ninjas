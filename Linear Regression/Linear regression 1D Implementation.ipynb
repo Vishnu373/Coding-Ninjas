{
 "cells": [
  {
   "cell_type": "code",
   "execution_count": 62,
   "id": "2f75a598",
   "metadata": {},
   "outputs": [],
   "source": [
    "import numpy as np\n",
    "from sklearn.model_selection import train_test_split"
   ]
  },
  {
   "cell_type": "code",
   "execution_count": 63,
   "id": "d1cc294f",
   "metadata": {},
   "outputs": [],
   "source": [
    "# load the data\n",
    "data = np.loadtxt(\"https://files.codingninjas.in/data-6984.csv\", delimiter = \",\")"
   ]
  },
  {
   "cell_type": "code",
   "execution_count": 64,
   "id": "40dd4043",
   "metadata": {},
   "outputs": [],
   "source": [
    "# Splitting into input and output\n",
    "X = data[:, 0]\n",
    "Y = data[:, 1]"
   ]
  },
  {
   "cell_type": "code",
   "execution_count": 65,
   "id": "78edaac2",
   "metadata": {},
   "outputs": [
    {
     "data": {
      "text/plain": [
       "((100,), (100,))"
      ]
     },
     "execution_count": 65,
     "metadata": {},
     "output_type": "execute_result"
    }
   ],
   "source": [
    "X.shape, Y.shape"
   ]
  },
  {
   "cell_type": "code",
   "execution_count": 66,
   "id": "95397c13",
   "metadata": {},
   "outputs": [],
   "source": [
    "# training and testing split\n",
    "X_train, X_test, Y_train, Y_test = train_test_split(X, Y)"
   ]
  },
  {
   "cell_type": "code",
   "execution_count": 67,
   "id": "e40c1436",
   "metadata": {},
   "outputs": [
    {
     "data": {
      "text/plain": [
       "((75,), (25,), (75,), (25,))"
      ]
     },
     "execution_count": 67,
     "metadata": {},
     "output_type": "execute_result"
    }
   ],
   "source": [
    "X_train.shape, X_test.shape, Y_train.shape, Y_test.shape"
   ]
  },
  {
   "cell_type": "code",
   "execution_count": 68,
   "id": "d587fc16",
   "metadata": {},
   "outputs": [],
   "source": [
    "# only on training data\n",
    "def fit(x, y):\n",
    "    num = (x * y).mean() - x.mean() * y.mean()\n",
    "    den = (x**2).mean() - x.mean()**2\n",
    "    \n",
    "    m = num / den\n",
    "    \n",
    "    c = y.mean() - m * x.mean()\n",
    "    \n",
    "    return m, c"
   ]
  },
  {
   "cell_type": "code",
   "execution_count": 69,
   "id": "c3f2f7e5",
   "metadata": {},
   "outputs": [],
   "source": [
    "def predict(x, m, c):\n",
    "    y_pred = m * x + c\n",
    "    return y_pred"
   ]
  },
  {
   "cell_type": "code",
   "execution_count": 70,
   "id": "5cae23a7",
   "metadata": {},
   "outputs": [],
   "source": [
    "def score(y_pred, y_truth):\n",
    "    u = ((y_truth - y_pred)**2).sum()\n",
    "    v = ((y_truth - y_truth.mean())**2).sum()\n",
    "    \n",
    "    cod = 1 - u / v\n",
    "    \n",
    "    return cod"
   ]
  },
  {
   "cell_type": "code",
   "execution_count": 71,
   "id": "b91df798",
   "metadata": {},
   "outputs": [],
   "source": [
    "def cost(x, y, m, c):\n",
    "    return (((y - (m * x) + c))**2).mean()"
   ]
  },
  {
   "cell_type": "code",
   "execution_count": 72,
   "id": "e2dbda47",
   "metadata": {},
   "outputs": [],
   "source": [
    "def mse(y_truth, y_pred):\n",
    "    return ((y_truth - y_pred)**2).mean()"
   ]
  },
  {
   "cell_type": "code",
   "execution_count": 73,
   "id": "8b3a7935",
   "metadata": {},
   "outputs": [
    {
     "name": "stdout",
     "output_type": "stream",
     "text": [
      "1.4612780980228868 1.5278860719282221\n"
     ]
    }
   ],
   "source": [
    "m, c = fit(X_train, Y_train)\n",
    "print(m, c)"
   ]
  },
  {
   "cell_type": "code",
   "execution_count": 74,
   "id": "66a471e4",
   "metadata": {},
   "outputs": [],
   "source": [
    "Y_pred_train = predict(X_train, m, c)\n",
    "Y_pred_test = predict(X_test, m, c)"
   ]
  },
  {
   "cell_type": "code",
   "execution_count": 75,
   "id": "296d97f6",
   "metadata": {},
   "outputs": [
    {
     "name": "stdout",
     "output_type": "stream",
     "text": [
      "Score on training:  0.6329716014036715\n",
      "Score on training:  0.4231065992339995\n"
     ]
    }
   ],
   "source": [
    "print(\"Score on training: \", score(Y_pred_train, Y_train))\n",
    "print(\"Score on training: \", score(Y_pred_test, Y_test))"
   ]
  },
  {
   "cell_type": "code",
   "execution_count": 76,
   "id": "479dd858",
   "metadata": {},
   "outputs": [
    {
     "name": "stdout",
     "output_type": "stream",
     "text": [
      "Cost on training:  116.22696668985023\n",
      "Cost on testing:  129.2199727580445\n"
     ]
    }
   ],
   "source": [
    "print(\"Cost on training: \", cost(X_train, Y_train, m, c))\n",
    "print(\"Cost on testing: \", cost(X_test, Y_test, m, c))"
   ]
  },
  {
   "cell_type": "code",
   "execution_count": 77,
   "id": "a7c7c084",
   "metadata": {},
   "outputs": [
    {
     "name": "stdout",
     "output_type": "stream",
     "text": [
      "MSE on training:  0.4201502914468681\n",
      "MSE on training:  0.4873954981243993\n"
     ]
    }
   ],
   "source": [
    "print(\"MSE on training: \", score(Y_train, Y_pred_train))\n",
    "print(\"MSE on training: \", score(Y_test, Y_pred_test))"
   ]
  }
 ],
 "metadata": {
  "kernelspec": {
   "display_name": "Python 3 (ipykernel)",
   "language": "python",
   "name": "python3"
  },
  "language_info": {
   "codemirror_mode": {
    "name": "ipython",
    "version": 3
   },
   "file_extension": ".py",
   "mimetype": "text/x-python",
   "name": "python",
   "nbconvert_exporter": "python",
   "pygments_lexer": "ipython3",
   "version": "3.10.9"
  }
 },
 "nbformat": 4,
 "nbformat_minor": 5
}
