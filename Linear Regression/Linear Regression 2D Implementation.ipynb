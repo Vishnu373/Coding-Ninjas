{
 "cells": [
  {
   "cell_type": "code",
   "execution_count": 1,
   "id": "c15fd9f8",
   "metadata": {},
   "outputs": [],
   "source": [
    "def fit(X, y):\n",
    "    x1 = X[:, 0]\n",
    "    x2 = X[:, 1]\n",
    "    \n",
    "    x1_num = (x1 * y).mean() - x1.mean() * y.mean()\n",
    "    x1_den = (x1**2).mean() - (x1.mean())**2\n",
    "    \n",
    "    x2_num = (x2 * y).mean() - x2.mean() * y.mean()\n",
    "    x2_den = (x2**2).mean() - (x2.mean())**2\n",
    "    \n",
    "    m1 = x1_num / x1_den\n",
    "    m2 = x2_num / x2_den\n",
    "    \n",
    "    c = y.mean() - (m1 * x1.mean()) - (m2 * x2.mean()) \n",
    "    \n",
    "    return m1, m2, c"
   ]
  },
  {
   "cell_type": "code",
   "execution_count": 2,
   "id": "203a7d35",
   "metadata": {},
   "outputs": [],
   "source": [
    "def predict(X, m1, m2, c):\n",
    "    x1 = X[:, 0]\n",
    "    x2 = X[:, 1]\n",
    "    \n",
    "    y_pred = m1 * x1 + m2 * x2 + c\n",
    "    \n",
    "    return y_pred"
   ]
  },
  {
   "cell_type": "code",
   "execution_count": 3,
   "id": "c9413da6",
   "metadata": {},
   "outputs": [],
   "source": [
    "def score(y_pred, y_truth):\n",
    "    u = ((y_truth - y_pred)**2).sum()\n",
    "    v = ((y_truth - y.mean())**2).sum()\n",
    "    \n",
    "    score = 1 - (u/v)\n",
    "    \n",
    "    return score"
   ]
  },
  {
   "cell_type": "code",
   "execution_count": 4,
   "id": "da38ae19",
   "metadata": {},
   "outputs": [],
   "source": [
    "def cost_fun(X, y, m1, m2, c):\n",
    "    x1 = X[:, 0]\n",
    "    x2 = X[:, 1]\n",
    "    \n",
    "    cost = ((y - (m1 * x1 + m2 * x2 - c))**2).sum()\n",
    "    \n",
    "    return cost"
   ]
  }
 ],
 "metadata": {
  "kernelspec": {
   "display_name": "Python 3 (ipykernel)",
   "language": "python",
   "name": "python3"
  },
  "language_info": {
   "codemirror_mode": {
    "name": "ipython",
    "version": 3
   },
   "file_extension": ".py",
   "mimetype": "text/x-python",
   "name": "python",
   "nbconvert_exporter": "python",
   "pygments_lexer": "ipython3",
   "version": "3.10.9"
  }
 },
 "nbformat": 4,
 "nbformat_minor": 5
}
