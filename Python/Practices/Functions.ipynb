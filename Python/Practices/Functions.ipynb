{
 "cells": [
  {
   "cell_type": "code",
   "execution_count": 3,
   "id": "58868d5b",
   "metadata": {},
   "outputs": [],
   "source": [
    "# Function for nCr\n",
    "def fact(n):\n",
    "    fact = 1\n",
    "    for i in range(1, n + 1):\n",
    "        fact = fact * i\n",
    "        \n",
    "    return fact"
   ]
  },
  {
   "cell_type": "code",
   "execution_count": 8,
   "id": "2c1a998c",
   "metadata": {},
   "outputs": [
    {
     "name": "stdout",
     "output_type": "stream",
     "text": [
      "4\n",
      "2\n",
      "6\n"
     ]
    }
   ],
   "source": [
    "n = int(input())\n",
    "r = int(input())\n",
    "\n",
    "n_fact = fact(n)\n",
    "r_fact = fact(r)\n",
    "n_r_fact = fact(n - r)\n",
    "\n",
    "ans = n_fact // (r_fact * n_r_fact)\n",
    "\n",
    "print(ans)"
   ]
  },
  {
   "cell_type": "code",
   "execution_count": 5,
   "id": "4afb1fb1",
   "metadata": {},
   "outputs": [
    {
     "name": "stdout",
     "output_type": "stream",
     "text": [
      "4\n",
      "2\n",
      "6\n"
     ]
    },
    {
     "data": {
      "text/plain": [
       "'\\nn_fact = 1\\nfor i in range(1, n + 1):\\n    n_fact = n_fact * i\\n    \\nr_fact = 1\\nfor i in range(1, r + 1):\\n    r_fact = r_fact * i\\n\\nn_r_fact = 1\\nfor i in range(1, n - r + 1):\\n    n_r_fact = n_r_fact * i\\n\\nans = n_fact // (r_fact * n_r_fact)\\n\\nprint(ans)\\n'"
      ]
     },
     "execution_count": 5,
     "metadata": {},
     "output_type": "execute_result"
    }
   ],
   "source": [
    "n = int(input())\n",
    "r = int(input())\n",
    "\n",
    "\"\"\"\n",
    "n_fact = 1\n",
    "for i in range(1, n + 1):\n",
    "    n_fact = n_fact * i\n",
    "    \n",
    "r_fact = 1\n",
    "for i in range(1, r + 1):\n",
    "    r_fact = r_fact * i\n",
    "\n",
    "n_r_fact = 1\n",
    "for i in range(1, n - r + 1):\n",
    "    n_r_fact = n_r_fact * i\n",
    "\n",
    "ans = n_fact // (r_fact * n_r_fact)\n",
    "\n",
    "print(ans)\n",
    "\"\"\""
   ]
  },
  {
   "cell_type": "markdown",
   "id": "160ee2e3",
   "metadata": {},
   "source": [
    "### Variable length input and output"
   ]
  },
  {
   "cell_type": "code",
   "execution_count": 11,
   "id": "729d1859",
   "metadata": {},
   "outputs": [
    {
     "name": "stdout",
     "output_type": "stream",
     "text": [
      "1\n",
      "2\n",
      "(3, 4, 5)\n"
     ]
    },
    {
     "data": {
      "text/plain": [
       "15"
      ]
     },
     "execution_count": 11,
     "metadata": {},
     "output_type": "execute_result"
    }
   ],
   "source": [
    "def sum(a, b, *more):\n",
    "    print(a)\n",
    "    print(b)\n",
    "    print(more)\n",
    "    \n",
    "    sum = a + b\n",
    "    for i in more:\n",
    "        sum = sum + i\n",
    "    \n",
    "    return sum\n",
    "\n",
    "sum(1, 2, 3, 4, 5)"
   ]
  },
  {
   "cell_type": "code",
   "execution_count": 13,
   "id": "c6ad6b2a",
   "metadata": {},
   "outputs": [
    {
     "data": {
      "text/plain": [
       "(5, 3)"
      ]
     },
     "execution_count": 13,
     "metadata": {},
     "output_type": "execute_result"
    }
   ],
   "source": [
    "def sum_diff(a, b):\n",
    "    return a + b, a - b\n",
    "\n",
    "sum_diff(4, 1)"
   ]
  }
 ],
 "metadata": {
  "kernelspec": {
   "display_name": "Python 3 (ipykernel)",
   "language": "python",
   "name": "python3"
  },
  "language_info": {
   "codemirror_mode": {
    "name": "ipython",
    "version": 3
   },
   "file_extension": ".py",
   "mimetype": "text/x-python",
   "name": "python",
   "nbconvert_exporter": "python",
   "pygments_lexer": "ipython3",
   "version": "3.11.5"
  }
 },
 "nbformat": 4,
 "nbformat_minor": 5
}
