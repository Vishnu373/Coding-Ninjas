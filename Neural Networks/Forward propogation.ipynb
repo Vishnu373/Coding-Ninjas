{
 "cells": [
  {
   "cell_type": "code",
   "execution_count": 1,
   "id": "4b95a0f7",
   "metadata": {},
   "outputs": [],
   "source": [
    "import numpy as np"
   ]
  },
  {
   "cell_type": "code",
   "execution_count": 3,
   "id": "f6effc32",
   "metadata": {},
   "outputs": [],
   "source": [
    "# AND operation\n",
    "X = np.array([[0, 0], [0, 1], [1, 0], [1, 1]])\n",
    "Y = np.array([[0, 0, 0, 1]]).T"
   ]
  },
  {
   "cell_type": "code",
   "execution_count": 5,
   "id": "2347a3b7",
   "metadata": {},
   "outputs": [
    {
     "data": {
      "text/plain": [
       "((4, 2), (4, 1))"
      ]
     },
     "execution_count": 5,
     "metadata": {},
     "output_type": "execute_result"
    }
   ],
   "source": [
    "X.shape, Y.shape"
   ]
  },
  {
   "cell_type": "code",
   "execution_count": 6,
   "id": "5be9e2e3",
   "metadata": {},
   "outputs": [],
   "source": [
    "# sigmoid function\n",
    "def sig(z):\n",
    "    return 1 / (1 + np.exp(-z))"
   ]
  },
  {
   "cell_type": "code",
   "execution_count": null,
   "id": "42108f82",
   "metadata": {},
   "outputs": [],
   "source": [
    "# sigmoid function derivation\n",
    "def derivativeSig(z):\n",
    "    return sig(z) * (1 - sig(z))"
   ]
  },
  {
   "cell_type": "code",
   "execution_count": 22,
   "id": "6eedeb0b",
   "metadata": {},
   "outputs": [],
   "source": [
    "# considering weights and bias b/w -1 and 1\n",
    "# no hidden layer weights\n",
    "weights = 2 * np.random.random((2, 1)) - 1\n",
    "bias = 2 * np.random.random(1) - 1"
   ]
  },
  {
   "cell_type": "code",
   "execution_count": 23,
   "id": "0aa62330",
   "metadata": {},
   "outputs": [
    {
     "data": {
      "text/plain": [
       "(array([[-0.36864155],\n",
       "        [-0.0627267 ]]),\n",
       " array([-0.02056216]))"
      ]
     },
     "execution_count": 23,
     "metadata": {},
     "output_type": "execute_result"
    }
   ],
   "source": [
    "weights, bias"
   ]
  },
  {
   "cell_type": "code",
   "execution_count": 24,
   "id": "048a5e46",
   "metadata": {},
   "outputs": [
    {
     "data": {
      "text/plain": [
       "array([[0.49485964],\n",
       "       [0.47918981],\n",
       "       [0.40390901],\n",
       "       [0.38890189]])"
      ]
     },
     "execution_count": 24,
     "metadata": {},
     "output_type": "execute_result"
    }
   ],
   "source": [
    "# Forward propogation without any hidden layer\n",
    "output0 = X # output of input layer\n",
    "output = sig(np.dot(output0, weights) + bias) # output of output layer\n",
    "\n",
    "output"
   ]
  },
  {
   "cell_type": "code",
   "execution_count": 30,
   "id": "14c35987",
   "metadata": {},
   "outputs": [],
   "source": [
    "# Hidden layer weights and biases\n",
    "wh = 2 * np.random.random((2, 2)) - 1\n",
    "bh = 2 * np.random.random((1, 2)) - 1\n",
    "\n",
    "# output layer weights and biases\n",
    "wo = 2 * np.random.random((2, 1)) - 1\n",
    "bo = 2 * np.random.random((1, 1)) - 1"
   ]
  },
  {
   "cell_type": "code",
   "execution_count": 31,
   "id": "57ced211",
   "metadata": {},
   "outputs": [
    {
     "data": {
      "text/plain": [
       "array([[0.63158892],\n",
       "       [0.6353287 ],\n",
       "       [0.64365605],\n",
       "       [0.64720836]])"
      ]
     },
     "execution_count": 31,
     "metadata": {},
     "output_type": "execute_result"
    }
   ],
   "source": [
    "# Forward propogation with hidden layer\n",
    "output0 = X\n",
    "output_hidden = sig(np.dot(output0, wh) + bh)\n",
    "output = sig(np.dot(output_hidden, wo) + bo)\n",
    "\n",
    "output"
   ]
  }
 ],
 "metadata": {
  "kernelspec": {
   "display_name": "Python 3 (ipykernel)",
   "language": "python",
   "name": "python3"
  },
  "language_info": {
   "codemirror_mode": {
    "name": "ipython",
    "version": 3
   },
   "file_extension": ".py",
   "mimetype": "text/x-python",
   "name": "python",
   "nbconvert_exporter": "python",
   "pygments_lexer": "ipython3",
   "version": "3.9.13"
  }
 },
 "nbformat": 4,
 "nbformat_minor": 5
}
