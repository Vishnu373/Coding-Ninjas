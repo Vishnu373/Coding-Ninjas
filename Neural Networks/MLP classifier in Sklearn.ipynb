{
 "cells": [
  {
   "cell_type": "code",
   "execution_count": 6,
   "id": "119d2596",
   "metadata": {},
   "outputs": [],
   "source": [
    "from sklearn import datasets\n",
    "from sklearn.model_selection import train_test_split\n",
    "\n",
    "# MLP classifier\n",
    "from sklearn.neural_network import MLPClassifier"
   ]
  },
  {
   "cell_type": "code",
   "execution_count": 2,
   "id": "0c856799",
   "metadata": {},
   "outputs": [],
   "source": [
    "# loading the data\n",
    "iris = datasets.load_iris()"
   ]
  },
  {
   "cell_type": "code",
   "execution_count": 3,
   "id": "d26178e8",
   "metadata": {},
   "outputs": [],
   "source": [
    "# taking input and output\n",
    "x = iris.data\n",
    "y = iris.target"
   ]
  },
  {
   "cell_type": "code",
   "execution_count": 11,
   "id": "a4725579",
   "metadata": {},
   "outputs": [],
   "source": [
    "# splitting into training and testing data\n",
    "x_train, x_test, y_train, y_test = train_test_split(x, y)"
   ]
  },
  {
   "cell_type": "code",
   "execution_count": 18,
   "id": "957c31e6",
   "metadata": {},
   "outputs": [
    {
     "data": {
      "text/html": [
       "<style>#sk-container-id-6 {color: black;background-color: white;}#sk-container-id-6 pre{padding: 0;}#sk-container-id-6 div.sk-toggleable {background-color: white;}#sk-container-id-6 label.sk-toggleable__label {cursor: pointer;display: block;width: 100%;margin-bottom: 0;padding: 0.3em;box-sizing: border-box;text-align: center;}#sk-container-id-6 label.sk-toggleable__label-arrow:before {content: \"▸\";float: left;margin-right: 0.25em;color: #696969;}#sk-container-id-6 label.sk-toggleable__label-arrow:hover:before {color: black;}#sk-container-id-6 div.sk-estimator:hover label.sk-toggleable__label-arrow:before {color: black;}#sk-container-id-6 div.sk-toggleable__content {max-height: 0;max-width: 0;overflow: hidden;text-align: left;background-color: #f0f8ff;}#sk-container-id-6 div.sk-toggleable__content pre {margin: 0.2em;color: black;border-radius: 0.25em;background-color: #f0f8ff;}#sk-container-id-6 input.sk-toggleable__control:checked~div.sk-toggleable__content {max-height: 200px;max-width: 100%;overflow: auto;}#sk-container-id-6 input.sk-toggleable__control:checked~label.sk-toggleable__label-arrow:before {content: \"▾\";}#sk-container-id-6 div.sk-estimator input.sk-toggleable__control:checked~label.sk-toggleable__label {background-color: #d4ebff;}#sk-container-id-6 div.sk-label input.sk-toggleable__control:checked~label.sk-toggleable__label {background-color: #d4ebff;}#sk-container-id-6 input.sk-hidden--visually {border: 0;clip: rect(1px 1px 1px 1px);clip: rect(1px, 1px, 1px, 1px);height: 1px;margin: -1px;overflow: hidden;padding: 0;position: absolute;width: 1px;}#sk-container-id-6 div.sk-estimator {font-family: monospace;background-color: #f0f8ff;border: 1px dotted black;border-radius: 0.25em;box-sizing: border-box;margin-bottom: 0.5em;}#sk-container-id-6 div.sk-estimator:hover {background-color: #d4ebff;}#sk-container-id-6 div.sk-parallel-item::after {content: \"\";width: 100%;border-bottom: 1px solid gray;flex-grow: 1;}#sk-container-id-6 div.sk-label:hover label.sk-toggleable__label {background-color: #d4ebff;}#sk-container-id-6 div.sk-serial::before {content: \"\";position: absolute;border-left: 1px solid gray;box-sizing: border-box;top: 0;bottom: 0;left: 50%;z-index: 0;}#sk-container-id-6 div.sk-serial {display: flex;flex-direction: column;align-items: center;background-color: white;padding-right: 0.2em;padding-left: 0.2em;position: relative;}#sk-container-id-6 div.sk-item {position: relative;z-index: 1;}#sk-container-id-6 div.sk-parallel {display: flex;align-items: stretch;justify-content: center;background-color: white;position: relative;}#sk-container-id-6 div.sk-item::before, #sk-container-id-6 div.sk-parallel-item::before {content: \"\";position: absolute;border-left: 1px solid gray;box-sizing: border-box;top: 0;bottom: 0;left: 50%;z-index: -1;}#sk-container-id-6 div.sk-parallel-item {display: flex;flex-direction: column;z-index: 1;position: relative;background-color: white;}#sk-container-id-6 div.sk-parallel-item:first-child::after {align-self: flex-end;width: 50%;}#sk-container-id-6 div.sk-parallel-item:last-child::after {align-self: flex-start;width: 50%;}#sk-container-id-6 div.sk-parallel-item:only-child::after {width: 0;}#sk-container-id-6 div.sk-dashed-wrapped {border: 1px dashed gray;margin: 0 0.4em 0.5em 0.4em;box-sizing: border-box;padding-bottom: 0.4em;background-color: white;}#sk-container-id-6 div.sk-label label {font-family: monospace;font-weight: bold;display: inline-block;line-height: 1.2em;}#sk-container-id-6 div.sk-label-container {text-align: center;}#sk-container-id-6 div.sk-container {/* jupyter's `normalize.less` sets `[hidden] { display: none; }` but bootstrap.min.css set `[hidden] { display: none !important; }` so we also need the `!important` here to be able to override the default hidden behavior on the sphinx rendered scikit-learn.org. See: https://github.com/scikit-learn/scikit-learn/issues/21755 */display: inline-block !important;position: relative;}#sk-container-id-6 div.sk-text-repr-fallback {display: none;}</style><div id=\"sk-container-id-6\" class=\"sk-top-container\"><div class=\"sk-text-repr-fallback\"><pre>MLPClassifier(hidden_layer_sizes=(20,), max_iter=3000)</pre><b>In a Jupyter environment, please rerun this cell to show the HTML representation or trust the notebook. <br />On GitHub, the HTML representation is unable to render, please try loading this page with nbviewer.org.</b></div><div class=\"sk-container\" hidden><div class=\"sk-item\"><div class=\"sk-estimator sk-toggleable\"><input class=\"sk-toggleable__control sk-hidden--visually\" id=\"sk-estimator-id-6\" type=\"checkbox\" checked><label for=\"sk-estimator-id-6\" class=\"sk-toggleable__label sk-toggleable__label-arrow\">MLPClassifier</label><div class=\"sk-toggleable__content\"><pre>MLPClassifier(hidden_layer_sizes=(20,), max_iter=3000)</pre></div></div></div></div></div>"
      ],
      "text/plain": [
       "MLPClassifier(hidden_layer_sizes=(20,), max_iter=3000)"
      ]
     },
     "execution_count": 18,
     "metadata": {},
     "output_type": "execute_result"
    }
   ],
   "source": [
    "# creating object for MLPCLassifier\n",
    "# clf = MLPClassifier()\n",
    "clf = MLPClassifier(hidden_layer_sizes = (20, ), max_iter = 3000)\n",
    "# training the model with training data\n",
    "clf.fit(x_train, y_train)"
   ]
  },
  {
   "cell_type": "code",
   "execution_count": 19,
   "id": "3612ad1f",
   "metadata": {},
   "outputs": [
    {
     "data": {
      "text/plain": [
       "0.9473684210526315"
      ]
     },
     "execution_count": 19,
     "metadata": {},
     "output_type": "execute_result"
    }
   ],
   "source": [
    "# score of the model\n",
    "clf.score(x_test, y_test)"
   ]
  },
  {
   "cell_type": "code",
   "execution_count": 20,
   "id": "4c4f62fb",
   "metadata": {},
   "outputs": [
    {
     "data": {
      "text/plain": [
       "[array([[-3.59789549e-02, -2.04277197e-14,  2.70545628e-01,\n",
       "          1.47021155e-01,  1.05457755e-01, -2.26251009e-02,\n",
       "          5.64760270e-01,  3.22786745e-01, -1.26890773e-02,\n",
       "         -1.15057743e-04, -1.95063795e-01,  5.00039877e-01,\n",
       "          5.42341913e-01,  4.55752124e-01, -2.83039450e-03,\n",
       "          3.64110758e-02, -9.27134656e-02,  2.02341844e-01,\n",
       "         -1.76579565e-02,  7.19868935e-01],\n",
       "        [ 7.03158092e-01, -3.64847940e-03,  1.20647798e-01,\n",
       "          6.37043030e-01,  1.48663635e-01, -1.82101399e-02,\n",
       "          3.15903983e-01,  3.13735616e-01, -5.58042673e-22,\n",
       "         -3.84346031e-06,  2.68185629e-01, -1.07722538e-01,\n",
       "          4.97160020e-01, -1.53892740e-01, -1.62819983e-03,\n",
       "          3.42655000e-02,  1.97137018e-01,  5.37488247e-01,\n",
       "         -3.04951870e-02,  6.57260412e-01],\n",
       "        [-3.48481820e-01, -2.01247000e-04,  5.13992679e-01,\n",
       "         -6.37371185e-01,  2.27821323e-02, -1.23570834e-02,\n",
       "         -6.34047137e-01,  1.39710592e-01, -7.26136769e-21,\n",
       "         -1.78083372e-03,  8.02307943e-01, -3.40986096e-01,\n",
       "         -3.43063863e-01, -3.22187863e-02,  5.39515525e-04,\n",
       "          4.21876454e-01,  7.21957335e-01,  1.53760774e-01,\n",
       "         -7.90770465e-02, -8.80026352e-01],\n",
       "        [-4.00063600e-01, -5.08457801e-05,  9.06300289e-01,\n",
       "         -1.95679627e-01,  2.18801970e-01, -4.53918592e-04,\n",
       "         -6.26810923e-01,  3.81663248e-01, -1.95463893e-07,\n",
       "         -2.88733562e-19,  4.41459112e-01, -6.03093440e-01,\n",
       "         -9.26538336e-01, -3.31699368e-01,  1.83150865e-03,\n",
       "          9.28651544e-01,  1.11874213e-01,  1.54097261e-01,\n",
       "          1.54252402e-01, -1.16498097e+00]]),\n",
       " array([[ 8.93529465e-01, -9.78895904e-01, -4.44587952e-01],\n",
       "        [ 2.80110292e-04, -1.80693030e-02,  1.91183889e-09],\n",
       "        [-2.95042470e-01,  1.93337920e-02,  3.79240238e-01],\n",
       "        [ 3.90061122e-01, -5.11640053e-01, -2.23255911e-02],\n",
       "        [ 3.06771027e-01,  2.19238300e-01,  3.02743780e-01],\n",
       "        [ 3.66635112e-06,  2.74852588e-02, -2.20682303e-06],\n",
       "        [ 3.00415291e-01,  1.05586918e-01, -7.05228304e-01],\n",
       "        [ 2.97723967e-01, -2.10674253e-01,  3.35789999e-01],\n",
       "        [ 2.67892251e-23,  3.92594626e-04,  2.36481644e-07],\n",
       "        [ 2.20330930e-02, -1.67924239e-03,  4.23268612e-06],\n",
       "        [-3.11836961e-01, -9.89883942e-02,  6.28573252e-01],\n",
       "        [ 5.81930102e-01,  1.84186877e-01, -3.49035816e-01],\n",
       "        [ 5.82326089e-02,  9.02658675e-02, -6.64931152e-01],\n",
       "        [ 1.07001856e-01,  3.24675699e-01, -5.46655660e-01],\n",
       "        [-9.86422006e-10,  1.15971441e-05,  2.52490486e-02],\n",
       "        [-3.17493014e-01,  1.20983222e-01,  5.90020745e-01],\n",
       "        [-1.92051870e-02,  5.79925774e-01,  5.64222337e-01],\n",
       "        [-4.09742190e-01,  2.28355219e-01, -3.44437396e-01],\n",
       "        [-1.68524717e-03, -1.52799774e-07, -1.04806592e-02],\n",
       "        [ 1.20900123e+00,  9.87949845e-01, -8.80207090e-01]])]"
      ]
     },
     "execution_count": 20,
     "metadata": {},
     "output_type": "execute_result"
    }
   ],
   "source": [
    "# all weights used\n",
    "clf.coefs_"
   ]
  },
  {
   "cell_type": "code",
   "execution_count": 28,
   "id": "b3da71d7",
   "metadata": {},
   "outputs": [
    {
     "name": "stdout",
     "output_type": "stream",
     "text": [
      "(4, 20)\n",
      "(20, 3)\n"
     ]
    }
   ],
   "source": [
    "print(clf.coefs_[0].shape) # Input to hidden layer\n",
    "print(clf.coefs_[1].shape) # Hidden to output layer"
   ]
  },
  {
   "cell_type": "code",
   "execution_count": 30,
   "id": "8a9c9ad8",
   "metadata": {},
   "outputs": [
    {
     "data": {
      "text/plain": [
       "[array([ 0.16445104, -0.47770045, -0.52907532,  0.13307326, -0.24249597,\n",
       "        -0.00747445,  0.33376874,  0.04226305, -0.43085956, -0.3306764 ,\n",
       "        -0.61514881,  0.3788072 , -0.04650255, -0.01697257, -0.08443004,\n",
       "        -0.7000596 ,  0.31200494,  0.1776018 , -0.08483208,  1.48282839]),\n",
       " array([-0.01062908, -0.15542354,  0.0180959 ])]"
      ]
     },
     "execution_count": 30,
     "metadata": {},
     "output_type": "execute_result"
    }
   ],
   "source": [
    "# all bias weights\n",
    "clf.intercepts_"
   ]
  },
  {
   "cell_type": "code",
   "execution_count": 29,
   "id": "b5f792ab",
   "metadata": {},
   "outputs": [
    {
     "name": "stdout",
     "output_type": "stream",
     "text": [
      "(20,)\n",
      "(3,)\n"
     ]
    }
   ],
   "source": [
    "print(clf.intercepts_[0].shape) # Input to hidden layer\n",
    "print(clf.intercepts_[1].shape) # Hidden to output layer"
   ]
  }
 ],
 "metadata": {
  "kernelspec": {
   "display_name": "Python 3 (ipykernel)",
   "language": "python",
   "name": "python3"
  },
  "language_info": {
   "codemirror_mode": {
    "name": "ipython",
    "version": 3
   },
   "file_extension": ".py",
   "mimetype": "text/x-python",
   "name": "python",
   "nbconvert_exporter": "python",
   "pygments_lexer": "ipython3",
   "version": "3.9.13"
  }
 },
 "nbformat": 4,
 "nbformat_minor": 5
}
